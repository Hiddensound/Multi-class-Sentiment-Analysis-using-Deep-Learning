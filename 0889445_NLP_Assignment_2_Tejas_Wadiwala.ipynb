{
  "nbformat": 4,
  "nbformat_minor": 0,
  "metadata": {
    "colab": {
      "name": "0889445_Assignment_2.ipynb",
      "provenance": [],
      "collapsed_sections": [],
      "machine_shape": "hm"
    },
    "kernelspec": {
      "name": "python3",
      "display_name": "Python 3"
    },
    "accelerator": "GPU"
  },
  "cells": [
    {
      "cell_type": "code",
      "metadata": {
        "id": "AdHbMWx2xtbM",
        "colab_type": "code",
        "outputId": "a77d6cfc-6974-4876-e1e3-d565c82f597f",
        "colab": {
          "base_uri": "https://localhost:8080/",
          "height": 119
        }
      },
      "source": [
        "#Importing the libraries\n",
        "import pandas as pd\n",
        "import numpy as np\n",
        "import matplotlib.pyplot as plt\n",
        "\n",
        "import nltk\n",
        "nltk.download('punkt')\n",
        "nltk.download('stopwords')\n",
        "nltk.download('wordnet')\n",
        "from nltk.corpus import stopwords\n",
        "from nltk.stem import WordNetLemmatizer, PorterStemmer, LancasterStemmer\n",
        "\n",
        "from sklearn.model_selection import train_test_split\n",
        "from sklearn.feature_extraction.stop_words import ENGLISH_STOP_WORDS\n",
        "from sklearn.model_selection import cross_val_score\n",
        "from keras.utils import to_categorical"
      ],
      "execution_count": 36,
      "outputs": [
        {
          "output_type": "stream",
          "text": [
            "[nltk_data] Downloading package punkt to /root/nltk_data...\n",
            "[nltk_data]   Package punkt is already up-to-date!\n",
            "[nltk_data] Downloading package stopwords to /root/nltk_data...\n",
            "[nltk_data]   Package stopwords is already up-to-date!\n",
            "[nltk_data] Downloading package wordnet to /root/nltk_data...\n",
            "[nltk_data]   Package wordnet is already up-to-date!\n"
          ],
          "name": "stdout"
        }
      ]
    },
    {
      "cell_type": "code",
      "metadata": {
        "id": "IIxf2FLgxwrc",
        "colab_type": "code",
        "colab": {}
      },
      "source": [
        "url= 'https://raw.githubusercontent.com/cacoderquan/Sentiment-Analysis-on-the-Rotten-Tomatoes-movie-review-dataset/master/train.tsv'\n",
        "df = pd.read_csv(url, sep='\\t')"
      ],
      "execution_count": 0,
      "outputs": []
    },
    {
      "cell_type": "code",
      "metadata": {
        "id": "TNE30LGSzdMn",
        "colab_type": "code",
        "outputId": "3438fc16-9429-4290-b2de-c3262070a2e9",
        "colab": {
          "base_uri": "https://localhost:8080/",
          "height": 34
        }
      },
      "source": [
        "df.shape"
      ],
      "execution_count": 38,
      "outputs": [
        {
          "output_type": "execute_result",
          "data": {
            "text/plain": [
              "(156060, 4)"
            ]
          },
          "metadata": {
            "tags": []
          },
          "execution_count": 38
        }
      ]
    },
    {
      "cell_type": "code",
      "metadata": {
        "id": "3USla5o3zkN3",
        "colab_type": "code",
        "outputId": "9d54c2bf-63ec-46a0-c123-557549199d04",
        "colab": {
          "base_uri": "https://localhost:8080/",
          "height": 359
        }
      },
      "source": [
        "df.head(10)"
      ],
      "execution_count": 39,
      "outputs": [
        {
          "output_type": "execute_result",
          "data": {
            "text/html": [
              "<div>\n",
              "<style scoped>\n",
              "    .dataframe tbody tr th:only-of-type {\n",
              "        vertical-align: middle;\n",
              "    }\n",
              "\n",
              "    .dataframe tbody tr th {\n",
              "        vertical-align: top;\n",
              "    }\n",
              "\n",
              "    .dataframe thead th {\n",
              "        text-align: right;\n",
              "    }\n",
              "</style>\n",
              "<table border=\"1\" class=\"dataframe\">\n",
              "  <thead>\n",
              "    <tr style=\"text-align: right;\">\n",
              "      <th></th>\n",
              "      <th>PhraseId</th>\n",
              "      <th>SentenceId</th>\n",
              "      <th>Phrase</th>\n",
              "      <th>Sentiment</th>\n",
              "    </tr>\n",
              "  </thead>\n",
              "  <tbody>\n",
              "    <tr>\n",
              "      <th>0</th>\n",
              "      <td>1</td>\n",
              "      <td>1</td>\n",
              "      <td>A series of escapades demonstrating the adage ...</td>\n",
              "      <td>1</td>\n",
              "    </tr>\n",
              "    <tr>\n",
              "      <th>1</th>\n",
              "      <td>2</td>\n",
              "      <td>1</td>\n",
              "      <td>A series of escapades demonstrating the adage ...</td>\n",
              "      <td>2</td>\n",
              "    </tr>\n",
              "    <tr>\n",
              "      <th>2</th>\n",
              "      <td>3</td>\n",
              "      <td>1</td>\n",
              "      <td>A series</td>\n",
              "      <td>2</td>\n",
              "    </tr>\n",
              "    <tr>\n",
              "      <th>3</th>\n",
              "      <td>4</td>\n",
              "      <td>1</td>\n",
              "      <td>A</td>\n",
              "      <td>2</td>\n",
              "    </tr>\n",
              "    <tr>\n",
              "      <th>4</th>\n",
              "      <td>5</td>\n",
              "      <td>1</td>\n",
              "      <td>series</td>\n",
              "      <td>2</td>\n",
              "    </tr>\n",
              "    <tr>\n",
              "      <th>5</th>\n",
              "      <td>6</td>\n",
              "      <td>1</td>\n",
              "      <td>of escapades demonstrating the adage that what...</td>\n",
              "      <td>2</td>\n",
              "    </tr>\n",
              "    <tr>\n",
              "      <th>6</th>\n",
              "      <td>7</td>\n",
              "      <td>1</td>\n",
              "      <td>of</td>\n",
              "      <td>2</td>\n",
              "    </tr>\n",
              "    <tr>\n",
              "      <th>7</th>\n",
              "      <td>8</td>\n",
              "      <td>1</td>\n",
              "      <td>escapades demonstrating the adage that what is...</td>\n",
              "      <td>2</td>\n",
              "    </tr>\n",
              "    <tr>\n",
              "      <th>8</th>\n",
              "      <td>9</td>\n",
              "      <td>1</td>\n",
              "      <td>escapades</td>\n",
              "      <td>2</td>\n",
              "    </tr>\n",
              "    <tr>\n",
              "      <th>9</th>\n",
              "      <td>10</td>\n",
              "      <td>1</td>\n",
              "      <td>demonstrating the adage that what is good for ...</td>\n",
              "      <td>2</td>\n",
              "    </tr>\n",
              "  </tbody>\n",
              "</table>\n",
              "</div>"
            ],
            "text/plain": [
              "   PhraseId  ...  Sentiment\n",
              "0         1  ...          1\n",
              "1         2  ...          2\n",
              "2         3  ...          2\n",
              "3         4  ...          2\n",
              "4         5  ...          2\n",
              "5         6  ...          2\n",
              "6         7  ...          2\n",
              "7         8  ...          2\n",
              "8         9  ...          2\n",
              "9        10  ...          2\n",
              "\n",
              "[10 rows x 4 columns]"
            ]
          },
          "metadata": {
            "tags": []
          },
          "execution_count": 39
        }
      ]
    },
    {
      "cell_type": "code",
      "metadata": {
        "id": "bB2iLll9zmVR",
        "colab_type": "code",
        "outputId": "1c2a120c-f550-492f-f960-c809885ecf2e",
        "colab": {
          "base_uri": "https://localhost:8080/",
          "height": 34
        }
      },
      "source": [
        "print(df.isnull().values.any())"
      ],
      "execution_count": 40,
      "outputs": [
        {
          "output_type": "stream",
          "text": [
            "False\n"
          ],
          "name": "stdout"
        }
      ]
    },
    {
      "cell_type": "code",
      "metadata": {
        "id": "ugHbaR5-dVcv",
        "colab_type": "code",
        "outputId": "692596d2-cb28-4b9b-a1f0-102334f85490",
        "colab": {
          "base_uri": "https://localhost:8080/",
          "height": 279
        }
      },
      "source": [
        "import matplotlib.pyplot as plt\n",
        "plt.style.use(\"ggplot\")\n",
        "#To change the size\n",
        "#fig = plt.figure(figsize=(7,6))\n",
        "fig = df.groupby('Sentiment').Phrase.count().plot.bar(ylim=0)\n",
        "#plt.show()\n",
        "plt.savefig('/content/drive/My Drive/NLP Assignment 1/assgn2.png', format='png', dpi=1200)"
      ],
      "execution_count": 41,
      "outputs": [
        {
          "output_type": "display_data",
          "data": {
            "image/png": "[encoded data removed]",
            "text/plain": [
              "<Figure size 432x288 with 1 Axes>"
            ]
          },
          "metadata": {
            "tags": []
          }
        }
      ]
    },
    {
      "cell_type": "code",
      "metadata": {
        "id": "UWdTRJOt3fSC",
        "colab_type": "code",
        "colab": {}
      },
      "source": [
        "# Assigning stemmers, lemmatizers, and more to variables\n",
        "porter = PorterStemmer()\n",
        "lancaster=LancasterStemmer()\n",
        "wordnet_lemmatizer = WordNetLemmatizer()\n",
        "stopwords_en = stopwords.words(\"english\")\n",
        "punctuations=\"?:!.,;'\\\"-()\"\n",
        "\n",
        "# Parameters to adjust to see the impact on outcome\n",
        "remove_stopwords = True\n",
        "useStemming = False\n",
        "useLemma = True\n",
        "removePuncs = True"
      ],
      "execution_count": 0,
      "outputs": []
    },
    {
      "cell_type": "code",
      "metadata": {
        "id": "nM7jtnE5a7XL",
        "colab_type": "code",
        "colab": {}
      },
      "source": [
        "spacedReview = []\n",
        "for x in range(0,len(df.PhraseId)):\n",
        "  tmpReview = []\n",
        "  for word in nltk.word_tokenize(df['Phrase'].values[x]):\n",
        "    newWord = str(word).lower() #Converting the given word to lowercase \n",
        "    if remove_stopwords and (word in stopwords_en): #Remove the word if it is in stopwords_en\n",
        "      continue\n",
        "    if removePuncs and (word in punctuations): #Remove the word if it is a punctuation\n",
        "      continue\n",
        "    if useLemma: # Lemmatization\n",
        "      newWord = wordnet_lemmatizer.lemmatize(newWord)\n",
        "    if useStemming: # Stemming\n",
        "      newWord = lancaster.stem(newWord)\n",
        "    tmpReview.append(newWord)\n",
        "  spacedReview.append(' '.join(tmpReview))"
      ],
      "execution_count": 0,
      "outputs": []
    },
    {
      "cell_type": "code",
      "metadata": {
        "id": "c2z9D84nONUj",
        "colab_type": "code",
        "colab": {}
      },
      "source": [
        "df['NewPhrase']=spacedReview"
      ],
      "execution_count": 0,
      "outputs": []
    },
    {
      "cell_type": "code",
      "metadata": {
        "id": "F6VwvO9WOWde",
        "colab_type": "code",
        "outputId": "b2e52581-2f15-457e-81ff-ecb72e48a2a7",
        "colab": {
          "base_uri": "https://localhost:8080/",
          "height": 359
        }
      },
      "source": [
        "df.head(10)"
      ],
      "execution_count": 45,
      "outputs": [
        {
          "output_type": "execute_result",
          "data": {
            "text/html": [
              "<div>\n",
              "<style scoped>\n",
              "    .dataframe tbody tr th:only-of-type {\n",
              "        vertical-align: middle;\n",
              "    }\n",
              "\n",
              "    .dataframe tbody tr th {\n",
              "        vertical-align: top;\n",
              "    }\n",
              "\n",
              "    .dataframe thead th {\n",
              "        text-align: right;\n",
              "    }\n",
              "</style>\n",
              "<table border=\"1\" class=\"dataframe\">\n",
              "  <thead>\n",
              "    <tr style=\"text-align: right;\">\n",
              "      <th></th>\n",
              "      <th>PhraseId</th>\n",
              "      <th>SentenceId</th>\n",
              "      <th>Phrase</th>\n",
              "      <th>Sentiment</th>\n",
              "      <th>NewPhrase</th>\n",
              "    </tr>\n",
              "  </thead>\n",
              "  <tbody>\n",
              "    <tr>\n",
              "      <th>0</th>\n",
              "      <td>1</td>\n",
              "      <td>1</td>\n",
              "      <td>A series of escapades demonstrating the adage ...</td>\n",
              "      <td>1</td>\n",
              "      <td>a series escapade demonstrating adage good goo...</td>\n",
              "    </tr>\n",
              "    <tr>\n",
              "      <th>1</th>\n",
              "      <td>2</td>\n",
              "      <td>1</td>\n",
              "      <td>A series of escapades demonstrating the adage ...</td>\n",
              "      <td>2</td>\n",
              "      <td>a series escapade demonstrating adage good goose</td>\n",
              "    </tr>\n",
              "    <tr>\n",
              "      <th>2</th>\n",
              "      <td>3</td>\n",
              "      <td>1</td>\n",
              "      <td>A series</td>\n",
              "      <td>2</td>\n",
              "      <td>a series</td>\n",
              "    </tr>\n",
              "    <tr>\n",
              "      <th>3</th>\n",
              "      <td>4</td>\n",
              "      <td>1</td>\n",
              "      <td>A</td>\n",
              "      <td>2</td>\n",
              "      <td>a</td>\n",
              "    </tr>\n",
              "    <tr>\n",
              "      <th>4</th>\n",
              "      <td>5</td>\n",
              "      <td>1</td>\n",
              "      <td>series</td>\n",
              "      <td>2</td>\n",
              "      <td>series</td>\n",
              "    </tr>\n",
              "    <tr>\n",
              "      <th>5</th>\n",
              "      <td>6</td>\n",
              "      <td>1</td>\n",
              "      <td>of escapades demonstrating the adage that what...</td>\n",
              "      <td>2</td>\n",
              "      <td>escapade demonstrating adage good goose</td>\n",
              "    </tr>\n",
              "    <tr>\n",
              "      <th>6</th>\n",
              "      <td>7</td>\n",
              "      <td>1</td>\n",
              "      <td>of</td>\n",
              "      <td>2</td>\n",
              "      <td></td>\n",
              "    </tr>\n",
              "    <tr>\n",
              "      <th>7</th>\n",
              "      <td>8</td>\n",
              "      <td>1</td>\n",
              "      <td>escapades demonstrating the adage that what is...</td>\n",
              "      <td>2</td>\n",
              "      <td>escapade demonstrating adage good goose</td>\n",
              "    </tr>\n",
              "    <tr>\n",
              "      <th>8</th>\n",
              "      <td>9</td>\n",
              "      <td>1</td>\n",
              "      <td>escapades</td>\n",
              "      <td>2</td>\n",
              "      <td>escapade</td>\n",
              "    </tr>\n",
              "    <tr>\n",
              "      <th>9</th>\n",
              "      <td>10</td>\n",
              "      <td>1</td>\n",
              "      <td>demonstrating the adage that what is good for ...</td>\n",
              "      <td>2</td>\n",
              "      <td>demonstrating adage good goose</td>\n",
              "    </tr>\n",
              "  </tbody>\n",
              "</table>\n",
              "</div>"
            ],
            "text/plain": [
              "   PhraseId  ...                                          NewPhrase\n",
              "0         1  ...  a series escapade demonstrating adage good goo...\n",
              "1         2  ...   a series escapade demonstrating adage good goose\n",
              "2         3  ...                                           a series\n",
              "3         4  ...                                                  a\n",
              "4         5  ...                                             series\n",
              "5         6  ...            escapade demonstrating adage good goose\n",
              "6         7  ...                                                   \n",
              "7         8  ...            escapade demonstrating adage good goose\n",
              "8         9  ...                                           escapade\n",
              "9        10  ...                     demonstrating adage good goose\n",
              "\n",
              "[10 rows x 5 columns]"
            ]
          },
          "metadata": {
            "tags": []
          },
          "execution_count": 45
        }
      ]
    },
    {
      "cell_type": "code",
      "metadata": {
        "id": "nxEmTrKu1m8s",
        "colab_type": "code",
        "colab": {}
      },
      "source": [
        "X_train, X_test, Y_train, Y_test = train_test_split(df['NewPhrase'],df['Sentiment'], test_size=0.3, random_state=2003)"
      ],
      "execution_count": 0,
      "outputs": []
    },
    {
      "cell_type": "code",
      "metadata": {
        "id": "NhMxVDA-2phz",
        "colab_type": "code",
        "outputId": "6949d4d1-da47-4508-fd95-e68f73276f74",
        "colab": {
          "base_uri": "https://localhost:8080/",
          "height": 51
        }
      },
      "source": [
        "#Here, X_train and X_test will have mutually exclusive sets of 109242 and 46818 samples. \n",
        "print(X_train.shape)\n",
        "print(X_test.shape)"
      ],
      "execution_count": 47,
      "outputs": [
        {
          "output_type": "stream",
          "text": [
            "(109242,)\n",
            "(46818,)\n"
          ],
          "name": "stdout"
        }
      ]
    },
    {
      "cell_type": "code",
      "metadata": {
        "id": "BoU5ZSP5PQe9",
        "colab_type": "code",
        "outputId": "0573f39c-6754-4b3c-a9c0-d104f91882f5",
        "colab": {
          "base_uri": "https://localhost:8080/",
          "height": 119
        }
      },
      "source": [
        "Y_train.value_counts()"
      ],
      "execution_count": 48,
      "outputs": [
        {
          "output_type": "execute_result",
          "data": {
            "text/plain": [
              "2    55595\n",
              "3    23055\n",
              "1    19203\n",
              "4     6468\n",
              "0     4921\n",
              "Name: Sentiment, dtype: int64"
            ]
          },
          "metadata": {
            "tags": []
          },
          "execution_count": 48
        }
      ]
    },
    {
      "cell_type": "code",
      "metadata": {
        "id": "qU_m1NoJ-uTp",
        "colab_type": "code",
        "colab": {}
      },
      "source": [
        "from sklearn.feature_extraction.text import CountVectorizer , TfidfVectorizer\n",
        "\n",
        "# Transform each text into a vector of word counts\n",
        "#For using Count Vectorizer\n",
        "#vectorizer_tfid = CountVectorizer(stop_words=\"english\",ngram_range=(1, 2), max_features = 3000)\n",
        "\n",
        "#For using TF-IDF Vectorizer\n",
        "vectorizer_tfid = TfidfVectorizer(ngram_range=(1, 2), max_features=3000)\n",
        "\n",
        "\n",
        "X = vectorizer_tfid.fit_transform(df['NewPhrase'])\n",
        "Y = df['Sentiment']\n",
        "x_train = vectorizer_tfid.transform(X_train)\n",
        "y_train = Y_train\n",
        "x_test = vectorizer_tfid.transform(X_test)\n",
        "y_test = Y_test"
      ],
      "execution_count": 0,
      "outputs": []
    },
    {
      "cell_type": "code",
      "metadata": {
        "id": "WkFgNsEp9WF4",
        "colab_type": "code",
        "outputId": "5eb82d76-5813-44de-9ee2-291a2615d363",
        "colab": {
          "base_uri": "https://localhost:8080/",
          "height": 34
        }
      },
      "source": [
        "x_train.shape, x_test.shape"
      ],
      "execution_count": 50,
      "outputs": [
        {
          "output_type": "execute_result",
          "data": {
            "text/plain": [
              "((109242, 3000), (46818, 3000))"
            ]
          },
          "metadata": {
            "tags": []
          },
          "execution_count": 50
        }
      ]
    },
    {
      "cell_type": "code",
      "metadata": {
        "id": "kJNSxxrCfbdr",
        "colab_type": "code",
        "outputId": "0f0042c7-2810-482b-94f6-2b1baaf465d4",
        "colab": {
          "base_uri": "https://localhost:8080/",
          "height": 51
        }
      },
      "source": [
        "x_train"
      ],
      "execution_count": 51,
      "outputs": [
        {
          "output_type": "execute_result",
          "data": {
            "text/plain": [
              "<109242x3000 sparse matrix of type '<class 'numpy.float64'>'\n",
              "\twith 343594 stored elements in Compressed Sparse Row format>"
            ]
          },
          "metadata": {
            "tags": []
          },
          "execution_count": 51
        }
      ]
    },
    {
      "cell_type": "code",
      "metadata": {
        "id": "zzJ00PoNBjHx",
        "colab_type": "code",
        "outputId": "39b7b06c-2abf-4d95-e1b4-365643ceb1fc",
        "colab": {
          "base_uri": "https://localhost:8080/",
          "height": 51
        }
      },
      "source": [
        "# Converting the training data to NumPy array\n",
        "x_train_np = x_train.toarray()\n",
        "y_train_np = np.array(y_train)\n",
        "\n",
        "# Converting the testing data to NumPy array\n",
        "x_test_np = x_test.toarray()\n",
        "y_test_np = np.array(y_test)\n",
        "\n",
        "# Printing to see if it is converted properly\n",
        "print(x_train_np.shape)\n",
        "print(y_train_np.shape)"
      ],
      "execution_count": 52,
      "outputs": [
        {
          "output_type": "stream",
          "text": [
            "(109242, 3000)\n",
            "(109242,)\n"
          ],
          "name": "stdout"
        }
      ]
    },
    {
      "cell_type": "code",
      "metadata": {
        "id": "dBYyTi6sFDY5",
        "colab_type": "code",
        "outputId": "90d6ec2c-4119-4d37-ae04-9adf4c6f0efb",
        "colab": {
          "base_uri": "https://localhost:8080/",
          "height": 85
        }
      },
      "source": [
        "# Reshaping the converted NumPy array\n",
        "x_train_np=x_train_np.reshape(x_train_np.shape[0],x_train_np.shape[1],1)\n",
        "x_test_np=x_test_np.reshape(x_test_np.shape[0],x_test_np.shape[1],1)\n",
        "print(x_train_np.shape)\n",
        "print(x_test_np.shape)\n",
        "\n",
        "y_train_np = to_categorical(y_train_np)\n",
        "print(y_train_np.shape)\n",
        "y_test_np = to_categorical(y_test_np)\n",
        "print(y_test_np.shape)"
      ],
      "execution_count": 53,
      "outputs": [
        {
          "output_type": "stream",
          "text": [
            "(109242, 3000, 1)\n",
            "(46818, 3000, 1)\n",
            "(109242, 5)\n",
            "(46818, 5)\n"
          ],
          "name": "stdout"
        }
      ]
    },
    {
      "cell_type": "code",
      "metadata": {
        "id": "nKoeXxupEmq2",
        "colab_type": "code",
        "colab": {}
      },
      "source": [
        "#https://datascience.stackexchange.com/questions/45165/how-to-get-accuracy-f1-precision-and-recall-for-a-keras-model\n",
        "from keras import backend as K\n",
        "def recall_m(y_true, y_pred):\n",
        "  true_positives = K.sum(K.round(K.clip(y_true*y_pred, 0, 1)))\n",
        "  possible_positives = K.sum(K.round(K.clip(y_true, 0 ,1)))\n",
        "  recall = true_positives / (possible_positives + K.epsilon())\n",
        "  return recall\n",
        "\n",
        "def precision_m(y_true, y_pred):\n",
        "  true_positives = K.sum(K.round(K.clip(y_true*y_pred, 0, 1)))\n",
        "  predicted_positives = K.sum(K.round(K.clip(y_pred, 0 ,1)))\n",
        "  precision = true_positives / (predicted_positives + K.epsilon())\n",
        "  return precision\n",
        "\n",
        "def f1_m(y_true, y_pred):\n",
        "  precision = precision_m(y_true, y_pred)\n",
        "  recall = recall_m(y_true, y_pred)\n",
        "  return 2*((precision*recall)/(precision+recall+K.epsilon()))"
      ],
      "execution_count": 0,
      "outputs": []
    },
    {
      "cell_type": "code",
      "metadata": {
        "id": "Pi67svqLE0pO",
        "colab_type": "code",
        "colab": {}
      },
      "source": [
        "from keras.models import Sequential\n",
        "from keras import layers\n",
        "from keras.layers import Dense, Conv1D, Flatten, Dropout\n",
        "from keras.layers import Activation, AveragePooling1D\n",
        "from keras import optimizers "
      ],
      "execution_count": 0,
      "outputs": []
    },
    {
      "cell_type": "code",
      "metadata": {
        "id": "KvNut_YCESxE",
        "colab_type": "code",
        "colab": {}
      },
      "source": [
        "model = Sequential()\n",
        "model.add(Conv1D(filters=64, kernel_size=3, activation='relu', input_shape=(x_train_np.shape[1],x_train_np.shape[2])))\n",
        "model.add(AveragePooling1D(pool_size=2))\n",
        "model.add(Flatten())\n",
        "model.add(layers.Dense(5, activation='softmax'))"
      ],
      "execution_count": 0,
      "outputs": []
    },
    {
      "cell_type": "code",
      "metadata": {
        "id": "68Qv8sByDtZp",
        "colab_type": "code",
        "colab": {}
      },
      "source": [
        "# If we want to define the hyperarameters\n",
        "newopt = optimizers.Adam(lr=0.0007)"
      ],
      "execution_count": 0,
      "outputs": []
    },
    {
      "cell_type": "code",
      "metadata": {
        "id": "Vs294PUxLe1m",
        "colab_type": "code",
        "outputId": "c485cc32-c0da-4de2-d5da-234f64218238",
        "colab": {
          "base_uri": "https://localhost:8080/",
          "height": 289
        }
      },
      "source": [
        "# Used for compiling the model\n",
        "model.compile(optimizer='nadam', loss='categorical_crossentropy', metrics=['accuracy',f1_m,precision_m,recall_m])\n",
        "model.summary()"
      ],
      "execution_count": 58,
      "outputs": [
        {
          "output_type": "stream",
          "text": [
            "Model: \"sequential_2\"\n",
            "_________________________________________________________________\n",
            "Layer (type)                 Output Shape              Param #   \n",
            "=================================================================\n",
            "conv1d_2 (Conv1D)            (None, 2998, 64)          256       \n",
            "_________________________________________________________________\n",
            "average_pooling1d_2 (Average (None, 1499, 64)          0         \n",
            "_________________________________________________________________\n",
            "flatten_2 (Flatten)          (None, 95936)             0         \n",
            "_________________________________________________________________\n",
            "dense_2 (Dense)              (None, 5)                 479685    \n",
            "=================================================================\n",
            "Total params: 479,941\n",
            "Trainable params: 479,941\n",
            "Non-trainable params: 0\n",
            "_________________________________________________________________\n"
          ],
          "name": "stdout"
        }
      ]
    },
    {
      "cell_type": "code",
      "metadata": {
        "id": "a_sHMoCACmHo",
        "colab_type": "code",
        "outputId": "758527fd-c970-4844-8c0b-51457e0cf117",
        "colab": {
          "base_uri": "https://localhost:8080/",
          "height": 734
        }
      },
      "source": [
        "answer = model.fit(x_train_np, y_train_np, epochs=20, verbose=1, validation_split=0.2, batch_size = 512)"
      ],
      "execution_count": 59,
      "outputs": [
        {
          "output_type": "stream",
          "text": [
            "Train on 87393 samples, validate on 21849 samples\n",
            "Epoch 1/20\n",
            "87393/87393 [==============================] - 7s 79us/step - loss: 1.2008 - acc: 0.5284 - f1_m: 0.3717 - precision_m: 0.5366 - recall_m: 0.3163 - val_loss: 1.0823 - val_acc: 0.5661 - val_f1_m: 0.5207 - val_precision_m: 0.6487 - val_recall_m: 0.4350\n",
            "Epoch 2/20\n",
            "87393/87393 [==============================] - 6s 74us/step - loss: 1.0397 - acc: 0.5914 - f1_m: 0.5332 - precision_m: 0.6695 - recall_m: 0.4448 - val_loss: 1.0461 - val_acc: 0.5844 - val_f1_m: 0.5480 - val_precision_m: 0.6503 - val_recall_m: 0.4738\n",
            "Epoch 3/20\n",
            "87393/87393 [==============================] - 6s 74us/step - loss: 1.0056 - acc: 0.6033 - f1_m: 0.5531 - precision_m: 0.6765 - recall_m: 0.4689 - val_loss: 1.0274 - val_acc: 0.5937 - val_f1_m: 0.5503 - val_precision_m: 0.6646 - val_recall_m: 0.4698\n",
            "Epoch 4/20\n",
            "87393/87393 [==============================] - 6s 74us/step - loss: 0.9838 - acc: 0.6132 - f1_m: 0.5675 - precision_m: 0.6846 - recall_m: 0.4851 - val_loss: 1.0254 - val_acc: 0.5945 - val_f1_m: 0.5609 - val_precision_m: 0.6555 - val_recall_m: 0.4903\n",
            "Epoch 5/20\n",
            "87393/87393 [==============================] - 6s 74us/step - loss: 0.9723 - acc: 0.6175 - f1_m: 0.5746 - precision_m: 0.6853 - recall_m: 0.4950 - val_loss: 1.0175 - val_acc: 0.6003 - val_f1_m: 0.5565 - val_precision_m: 0.6636 - val_recall_m: 0.4793\n",
            "Epoch 6/20\n",
            "87393/87393 [==============================] - 6s 74us/step - loss: 0.9660 - acc: 0.6215 - f1_m: 0.5786 - precision_m: 0.6860 - recall_m: 0.5008 - val_loss: 1.0180 - val_acc: 0.6013 - val_f1_m: 0.5630 - val_precision_m: 0.6598 - val_recall_m: 0.4911\n",
            "Epoch 7/20\n",
            "87393/87393 [==============================] - 6s 74us/step - loss: 0.9589 - acc: 0.6223 - f1_m: 0.5823 - precision_m: 0.6876 - recall_m: 0.5054 - val_loss: 1.0168 - val_acc: 0.5982 - val_f1_m: 0.5615 - val_precision_m: 0.6620 - val_recall_m: 0.4877\n",
            "Epoch 8/20\n",
            "87393/87393 [==============================] - 6s 74us/step - loss: 0.9520 - acc: 0.6258 - f1_m: 0.5862 - precision_m: 0.6895 - recall_m: 0.5101 - val_loss: 1.0152 - val_acc: 0.6014 - val_f1_m: 0.5671 - val_precision_m: 0.6571 - val_recall_m: 0.4989\n",
            "Epoch 9/20\n",
            "87393/87393 [==============================] - 6s 74us/step - loss: 0.9481 - acc: 0.6271 - f1_m: 0.5886 - precision_m: 0.6909 - recall_m: 0.5129 - val_loss: 1.0144 - val_acc: 0.6035 - val_f1_m: 0.5674 - val_precision_m: 0.6603 - val_recall_m: 0.4976\n",
            "Epoch 10/20\n",
            "87393/87393 [==============================] - 6s 74us/step - loss: 0.9467 - acc: 0.6278 - f1_m: 0.5900 - precision_m: 0.6899 - recall_m: 0.5157 - val_loss: 1.0169 - val_acc: 0.6005 - val_f1_m: 0.5618 - val_precision_m: 0.6616 - val_recall_m: 0.4882\n",
            "Epoch 11/20\n",
            "87393/87393 [==============================] - 7s 75us/step - loss: 0.9449 - acc: 0.6271 - f1_m: 0.5900 - precision_m: 0.6905 - recall_m: 0.5155 - val_loss: 1.0197 - val_acc: 0.6007 - val_f1_m: 0.5674 - val_precision_m: 0.6566 - val_recall_m: 0.4996\n",
            "Epoch 12/20\n",
            "87393/87393 [==============================] - 6s 74us/step - loss: 0.9444 - acc: 0.6270 - f1_m: 0.5907 - precision_m: 0.6889 - recall_m: 0.5175 - val_loss: 1.0347 - val_acc: 0.5945 - val_f1_m: 0.5747 - val_precision_m: 0.6395 - val_recall_m: 0.5219\n",
            "Epoch 13/20\n",
            "87393/87393 [==============================] - 6s 74us/step - loss: 0.9373 - acc: 0.6311 - f1_m: 0.5940 - precision_m: 0.6918 - recall_m: 0.5207 - val_loss: 1.0134 - val_acc: 0.6034 - val_f1_m: 0.5614 - val_precision_m: 0.6646 - val_recall_m: 0.4861\n",
            "Epoch 14/20\n",
            "87393/87393 [==============================] - 6s 74us/step - loss: 0.9361 - acc: 0.6314 - f1_m: 0.5939 - precision_m: 0.6925 - recall_m: 0.5202 - val_loss: 1.0193 - val_acc: 0.6000 - val_f1_m: 0.5544 - val_precision_m: 0.6618 - val_recall_m: 0.4771\n",
            "Epoch 15/20\n",
            "87393/87393 [==============================] - 6s 74us/step - loss: 0.9338 - acc: 0.6319 - f1_m: 0.5959 - precision_m: 0.6931 - recall_m: 0.5229 - val_loss: 1.0132 - val_acc: 0.6039 - val_f1_m: 0.5713 - val_precision_m: 0.6616 - val_recall_m: 0.5028\n",
            "Epoch 16/20\n",
            "87393/87393 [==============================] - 6s 74us/step - loss: 0.9333 - acc: 0.6337 - f1_m: 0.5966 - precision_m: 0.6936 - recall_m: 0.5237 - val_loss: 1.0136 - val_acc: 0.6009 - val_f1_m: 0.5628 - val_precision_m: 0.6657 - val_recall_m: 0.4876\n",
            "Epoch 17/20\n",
            "87393/87393 [==============================] - 6s 74us/step - loss: 0.9418 - acc: 0.6283 - f1_m: 0.5921 - precision_m: 0.6869 - recall_m: 0.5211 - val_loss: 1.0146 - val_acc: 0.6035 - val_f1_m: 0.5723 - val_precision_m: 0.6598 - val_recall_m: 0.5053\n",
            "Epoch 18/20\n",
            "87393/87393 [==============================] - 6s 73us/step - loss: 0.9291 - acc: 0.6339 - f1_m: 0.5989 - precision_m: 0.6947 - recall_m: 0.5266 - val_loss: 1.0142 - val_acc: 0.6030 - val_f1_m: 0.5685 - val_precision_m: 0.6616 - val_recall_m: 0.4984\n",
            "Epoch 19/20\n",
            "87393/87393 [==============================] - 6s 74us/step - loss: 0.9286 - acc: 0.6336 - f1_m: 0.5982 - precision_m: 0.6934 - recall_m: 0.5263 - val_loss: 1.0154 - val_acc: 0.6029 - val_f1_m: 0.5671 - val_precision_m: 0.6673 - val_recall_m: 0.4932\n",
            "Epoch 20/20\n",
            "87393/87393 [==============================] - 6s 74us/step - loss: 0.9279 - acc: 0.6344 - f1_m: 0.5990 - precision_m: 0.6944 - recall_m: 0.5269 - val_loss: 1.0143 - val_acc: 0.6048 - val_f1_m: 0.5676 - val_precision_m: 0.6625 - val_recall_m: 0.4965\n"
          ],
          "name": "stdout"
        }
      ]
    },
    {
      "cell_type": "code",
      "metadata": {
        "id": "7OXnY7EoIS7a",
        "colab_type": "code",
        "outputId": "c7b88db3-a2c4-48c1-9a24-c80c26ad4f6c",
        "colab": {
          "base_uri": "https://localhost:8080/",
          "height": 102
        }
      },
      "source": [
        "# For saving the model\n",
        "!apt-get install libhdf5-serial-dev\n",
        "import h5py\n",
        "model.save('/content/drive/My Drive/NLP Assignment 1/0889445_1dconv_reg.h5')"
      ],
      "execution_count": 60,
      "outputs": [
        {
          "output_type": "stream",
          "text": [
            "Reading package lists... Done\n",
            "Building dependency tree       \n",
            "Reading state information... Done\n",
            "libhdf5-serial-dev is already the newest version (1.10.0-patch1+docs-4).\n",
            "0 upgraded, 0 newly installed, 0 to remove and 25 not upgraded.\n"
          ],
          "name": "stdout"
        }
      ]
    },
    {
      "cell_type": "code",
      "metadata": {
        "id": "TJwAVHy4IpFx",
        "colab_type": "code",
        "colab": {}
      },
      "source": [
        "# For loading the model\n",
        "from keras.models import load_model\n",
        "!apt-get install libhdf5-serial-dev\n",
        "import h5py\n",
        "model = load_model('/content/drive/My Drive/NLP Assignment 1/0889445_1dconv_reg.h5', custom_objects={'f1_m': f1_m,'precision_m':precision_m,'recall_m':recall_m})"
      ],
      "execution_count": 0,
      "outputs": []
    },
    {
      "cell_type": "code",
      "metadata": {
        "id": "uBGPvZXCGxf7",
        "colab_type": "code",
        "outputId": "b79f6cdc-f9a0-4f88-d472-bff5640093e7",
        "colab": {
          "base_uri": "https://localhost:8080/",
          "height": 299
        }
      },
      "source": [
        "import matplotlib.pyplot as plt\n",
        "\n",
        "\n",
        "\n",
        "# Plot training & validation accuracy values\n",
        "plt.plot(answer.history['acc'])\n",
        "plt.plot(answer.history['val_acc'])\n",
        "plt.title('Model accuracy')\n",
        "plt.ylabel('Accuracy')\n",
        "plt.xlabel('Epoch')\n",
        "plt.legend(['Train', 'Validation'], loc='upper left')\n",
        "plt.show()\n",
        "#plt.savefig('/content/drive/My Drive/NLP Assignment 1/Accuracy_Epoch.png', format='png', dpi=1200)\n"
      ],
      "execution_count": 61,
      "outputs": [
        {
          "output_type": "display_data",
          "data": {
            "image/png": "[encoded data removed]",
            "text/plain": [
              "<Figure size 432x288 with 1 Axes>"
            ]
          },
          "metadata": {
            "tags": []
          }
        }
      ]
    },
    {
      "cell_type": "code",
      "metadata": {
        "id": "hH8M7QriboQC",
        "colab_type": "code",
        "outputId": "f98ebb74-700c-4ec8-8fb8-86b4d3f36cff",
        "colab": {
          "base_uri": "https://localhost:8080/",
          "height": 299
        }
      },
      "source": [
        "\n",
        "# Plot training & validation loss values\n",
        "plt.plot(answer.history['loss'])\n",
        "plt.plot(answer.history['val_loss'])\n",
        "plt.title('Model loss')\n",
        "plt.ylabel('Loss')\n",
        "plt.xlabel('Epoch')\n",
        "plt.legend(['Train', 'Validation'], loc='upper right')\n",
        "plt.show()\n",
        "#plt.savefig('/content/drive/My Drive/NLP Assignment 1/Loss_Epoch.png', format='png', dpi=1200)"
      ],
      "execution_count": 62,
      "outputs": [
        {
          "output_type": "display_data",
          "data": {
            "image/png": "[encoded data removed]",
            "text/plain": [
              "<Figure size 432x288 with 1 Axes>"
            ]
          },
          "metadata": {
            "tags": []
          }
        }
      ]
    },
    {
      "cell_type": "code",
      "metadata": {
        "id": "OCC1_m78EZ4Q",
        "colab_type": "code",
        "outputId": "700d90c0-b871-406e-d145-831062dd24b3",
        "colab": {
          "base_uri": "https://localhost:8080/",
          "height": 136
        }
      },
      "source": [
        "# Testing the results\n",
        "print(model.metrics_names)\n",
        "model.evaluate(x_test_np, y_test_np)"
      ],
      "execution_count": 63,
      "outputs": [
        {
          "output_type": "stream",
          "text": [
            "['loss', 'acc', 'f1_m', 'precision_m', 'recall_m']\n",
            "46818/46818 [==============================] - 5s 97us/step\n"
          ],
          "name": "stdout"
        },
        {
          "output_type": "execute_result",
          "data": {
            "text/plain": [
              "[1.0130354019011696,\n",
              " 0.6066042974924174,\n",
              " 0.5673004735860043,\n",
              " 0.663431084167749,\n",
              " 0.4976718356187791]"
            ]
          },
          "metadata": {
            "tags": []
          },
          "execution_count": 63
        }
      ]
    }
  ]
}